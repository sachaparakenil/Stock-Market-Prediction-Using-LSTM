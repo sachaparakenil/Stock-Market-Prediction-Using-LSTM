{
 "cells": [
  {
   "cell_type": "markdown",
   "id": "12ec69a2",
   "metadata": {},
   "source": [
    "# BHARAT INTERN\n",
    "\n",
    "\n",
    "**KENIL SACHAPARA**\n",
    "\n",
    "**Task 1: Stock Market Prediction Using  LSTM**\n",
    "\n",
    "Dataset: https://raw.githubusercontent.com/mwitiderrick/stockprice/master/NSE-TATAGLOBAL.csv\n",
    "\n",
    "Importing libraries"
   ]
  },
  {
   "cell_type": "code",
   "execution_count": 1,
   "id": "8bd4481b",
   "metadata": {},
   "outputs": [
    {
     "data": {
      "text/html": [
       "<div>\n",
       "<style scoped>\n",
       "    .dataframe tbody tr th:only-of-type {\n",
       "        vertical-align: middle;\n",
       "    }\n",
       "\n",
       "    .dataframe tbody tr th {\n",
       "        vertical-align: top;\n",
       "    }\n",
       "\n",
       "    .dataframe thead th {\n",
       "        text-align: right;\n",
       "    }\n",
       "</style>\n",
       "<table border=\"1\" class=\"dataframe\">\n",
       "  <thead>\n",
       "    <tr style=\"text-align: right;\">\n",
       "      <th></th>\n",
       "      <th>Date</th>\n",
       "      <th>Open</th>\n",
       "      <th>High</th>\n",
       "      <th>Low</th>\n",
       "      <th>Last</th>\n",
       "      <th>Close</th>\n",
       "      <th>Total Trade Quantity</th>\n",
       "      <th>Turnover (Lacs)</th>\n",
       "    </tr>\n",
       "  </thead>\n",
       "  <tbody>\n",
       "    <tr>\n",
       "      <th>0</th>\n",
       "      <td>2018-09-28</td>\n",
       "      <td>234.05</td>\n",
       "      <td>235.95</td>\n",
       "      <td>230.20</td>\n",
       "      <td>233.50</td>\n",
       "      <td>233.75</td>\n",
       "      <td>3069914</td>\n",
       "      <td>7162.35</td>\n",
       "    </tr>\n",
       "    <tr>\n",
       "      <th>1</th>\n",
       "      <td>2018-09-27</td>\n",
       "      <td>234.55</td>\n",
       "      <td>236.80</td>\n",
       "      <td>231.10</td>\n",
       "      <td>233.80</td>\n",
       "      <td>233.25</td>\n",
       "      <td>5082859</td>\n",
       "      <td>11859.95</td>\n",
       "    </tr>\n",
       "    <tr>\n",
       "      <th>2</th>\n",
       "      <td>2018-09-26</td>\n",
       "      <td>240.00</td>\n",
       "      <td>240.00</td>\n",
       "      <td>232.50</td>\n",
       "      <td>235.00</td>\n",
       "      <td>234.25</td>\n",
       "      <td>2240909</td>\n",
       "      <td>5248.60</td>\n",
       "    </tr>\n",
       "    <tr>\n",
       "      <th>3</th>\n",
       "      <td>2018-09-25</td>\n",
       "      <td>233.30</td>\n",
       "      <td>236.75</td>\n",
       "      <td>232.00</td>\n",
       "      <td>236.25</td>\n",
       "      <td>236.10</td>\n",
       "      <td>2349368</td>\n",
       "      <td>5503.90</td>\n",
       "    </tr>\n",
       "    <tr>\n",
       "      <th>4</th>\n",
       "      <td>2018-09-24</td>\n",
       "      <td>233.55</td>\n",
       "      <td>239.20</td>\n",
       "      <td>230.75</td>\n",
       "      <td>234.00</td>\n",
       "      <td>233.30</td>\n",
       "      <td>3423509</td>\n",
       "      <td>7999.55</td>\n",
       "    </tr>\n",
       "    <tr>\n",
       "      <th>...</th>\n",
       "      <td>...</td>\n",
       "      <td>...</td>\n",
       "      <td>...</td>\n",
       "      <td>...</td>\n",
       "      <td>...</td>\n",
       "      <td>...</td>\n",
       "      <td>...</td>\n",
       "      <td>...</td>\n",
       "    </tr>\n",
       "    <tr>\n",
       "      <th>2030</th>\n",
       "      <td>2010-07-27</td>\n",
       "      <td>117.60</td>\n",
       "      <td>119.50</td>\n",
       "      <td>112.00</td>\n",
       "      <td>118.80</td>\n",
       "      <td>118.65</td>\n",
       "      <td>586100</td>\n",
       "      <td>694.98</td>\n",
       "    </tr>\n",
       "    <tr>\n",
       "      <th>2031</th>\n",
       "      <td>2010-07-26</td>\n",
       "      <td>120.10</td>\n",
       "      <td>121.00</td>\n",
       "      <td>117.10</td>\n",
       "      <td>117.10</td>\n",
       "      <td>117.60</td>\n",
       "      <td>658440</td>\n",
       "      <td>780.01</td>\n",
       "    </tr>\n",
       "    <tr>\n",
       "      <th>2032</th>\n",
       "      <td>2010-07-23</td>\n",
       "      <td>121.80</td>\n",
       "      <td>121.95</td>\n",
       "      <td>120.25</td>\n",
       "      <td>120.35</td>\n",
       "      <td>120.65</td>\n",
       "      <td>281312</td>\n",
       "      <td>340.31</td>\n",
       "    </tr>\n",
       "    <tr>\n",
       "      <th>2033</th>\n",
       "      <td>2010-07-22</td>\n",
       "      <td>120.30</td>\n",
       "      <td>122.00</td>\n",
       "      <td>120.25</td>\n",
       "      <td>120.75</td>\n",
       "      <td>120.90</td>\n",
       "      <td>293312</td>\n",
       "      <td>355.17</td>\n",
       "    </tr>\n",
       "    <tr>\n",
       "      <th>2034</th>\n",
       "      <td>2010-07-21</td>\n",
       "      <td>122.10</td>\n",
       "      <td>123.00</td>\n",
       "      <td>121.05</td>\n",
       "      <td>121.10</td>\n",
       "      <td>121.55</td>\n",
       "      <td>658666</td>\n",
       "      <td>803.56</td>\n",
       "    </tr>\n",
       "  </tbody>\n",
       "</table>\n",
       "<p>2035 rows × 8 columns</p>\n",
       "</div>"
      ],
      "text/plain": [
       "            Date    Open    High     Low    Last   Close  \\\n",
       "0     2018-09-28  234.05  235.95  230.20  233.50  233.75   \n",
       "1     2018-09-27  234.55  236.80  231.10  233.80  233.25   \n",
       "2     2018-09-26  240.00  240.00  232.50  235.00  234.25   \n",
       "3     2018-09-25  233.30  236.75  232.00  236.25  236.10   \n",
       "4     2018-09-24  233.55  239.20  230.75  234.00  233.30   \n",
       "...          ...     ...     ...     ...     ...     ...   \n",
       "2030  2010-07-27  117.60  119.50  112.00  118.80  118.65   \n",
       "2031  2010-07-26  120.10  121.00  117.10  117.10  117.60   \n",
       "2032  2010-07-23  121.80  121.95  120.25  120.35  120.65   \n",
       "2033  2010-07-22  120.30  122.00  120.25  120.75  120.90   \n",
       "2034  2010-07-21  122.10  123.00  121.05  121.10  121.55   \n",
       "\n",
       "      Total Trade Quantity  Turnover (Lacs)  \n",
       "0                  3069914          7162.35  \n",
       "1                  5082859         11859.95  \n",
       "2                  2240909          5248.60  \n",
       "3                  2349368          5503.90  \n",
       "4                  3423509          7999.55  \n",
       "...                    ...              ...  \n",
       "2030                586100           694.98  \n",
       "2031                658440           780.01  \n",
       "2032                281312           340.31  \n",
       "2033                293312           355.17  \n",
       "2034                658666           803.56  \n",
       "\n",
       "[2035 rows x 8 columns]"
      ]
     },
     "execution_count": 1,
     "metadata": {},
     "output_type": "execute_result"
    }
   ],
   "source": [
    "import pandas as pd\n",
    "import numpy as np\n",
    "import matplotlib.pyplot as plt\n",
    "from sklearn.preprocessing import MinMaxScaler\n",
    "dataset_link = \"https://raw.githubusercontent.com/mwitiderrick/stockprice/master/NSE-TATAGLOBAL.csv\"\n",
    "df = pd.read_csv(dataset_link)\n",
    "df"
   ]
  },
  {
   "cell_type": "code",
   "execution_count": 2,
   "id": "8ab468ba",
   "metadata": {},
   "outputs": [
    {
     "data": {
      "text/html": [
       "<div>\n",
       "<style scoped>\n",
       "    .dataframe tbody tr th:only-of-type {\n",
       "        vertical-align: middle;\n",
       "    }\n",
       "\n",
       "    .dataframe tbody tr th {\n",
       "        vertical-align: top;\n",
       "    }\n",
       "\n",
       "    .dataframe thead th {\n",
       "        text-align: right;\n",
       "    }\n",
       "</style>\n",
       "<table border=\"1\" class=\"dataframe\">\n",
       "  <thead>\n",
       "    <tr style=\"text-align: right;\">\n",
       "      <th></th>\n",
       "      <th>Date</th>\n",
       "      <th>Open</th>\n",
       "      <th>High</th>\n",
       "      <th>Low</th>\n",
       "      <th>Last</th>\n",
       "      <th>Close</th>\n",
       "      <th>Total Trade Quantity</th>\n",
       "      <th>Turnover (Lacs)</th>\n",
       "    </tr>\n",
       "  </thead>\n",
       "  <tbody>\n",
       "    <tr>\n",
       "      <th>0</th>\n",
       "      <td>2018-09-28</td>\n",
       "      <td>234.05</td>\n",
       "      <td>235.95</td>\n",
       "      <td>230.20</td>\n",
       "      <td>233.50</td>\n",
       "      <td>233.75</td>\n",
       "      <td>3069914</td>\n",
       "      <td>7162.35</td>\n",
       "    </tr>\n",
       "    <tr>\n",
       "      <th>1</th>\n",
       "      <td>2018-09-27</td>\n",
       "      <td>234.55</td>\n",
       "      <td>236.80</td>\n",
       "      <td>231.10</td>\n",
       "      <td>233.80</td>\n",
       "      <td>233.25</td>\n",
       "      <td>5082859</td>\n",
       "      <td>11859.95</td>\n",
       "    </tr>\n",
       "    <tr>\n",
       "      <th>2</th>\n",
       "      <td>2018-09-26</td>\n",
       "      <td>240.00</td>\n",
       "      <td>240.00</td>\n",
       "      <td>232.50</td>\n",
       "      <td>235.00</td>\n",
       "      <td>234.25</td>\n",
       "      <td>2240909</td>\n",
       "      <td>5248.60</td>\n",
       "    </tr>\n",
       "    <tr>\n",
       "      <th>3</th>\n",
       "      <td>2018-09-25</td>\n",
       "      <td>233.30</td>\n",
       "      <td>236.75</td>\n",
       "      <td>232.00</td>\n",
       "      <td>236.25</td>\n",
       "      <td>236.10</td>\n",
       "      <td>2349368</td>\n",
       "      <td>5503.90</td>\n",
       "    </tr>\n",
       "    <tr>\n",
       "      <th>4</th>\n",
       "      <td>2018-09-24</td>\n",
       "      <td>233.55</td>\n",
       "      <td>239.20</td>\n",
       "      <td>230.75</td>\n",
       "      <td>234.00</td>\n",
       "      <td>233.30</td>\n",
       "      <td>3423509</td>\n",
       "      <td>7999.55</td>\n",
       "    </tr>\n",
       "  </tbody>\n",
       "</table>\n",
       "</div>"
      ],
      "text/plain": [
       "         Date    Open    High     Low    Last   Close  Total Trade Quantity  \\\n",
       "0  2018-09-28  234.05  235.95  230.20  233.50  233.75               3069914   \n",
       "1  2018-09-27  234.55  236.80  231.10  233.80  233.25               5082859   \n",
       "2  2018-09-26  240.00  240.00  232.50  235.00  234.25               2240909   \n",
       "3  2018-09-25  233.30  236.75  232.00  236.25  236.10               2349368   \n",
       "4  2018-09-24  233.55  239.20  230.75  234.00  233.30               3423509   \n",
       "\n",
       "   Turnover (Lacs)  \n",
       "0          7162.35  \n",
       "1         11859.95  \n",
       "2          5248.60  \n",
       "3          5503.90  \n",
       "4          7999.55  "
      ]
     },
     "execution_count": 2,
     "metadata": {},
     "output_type": "execute_result"
    }
   ],
   "source": [
    "df.head()"
   ]
  },
  {
   "cell_type": "code",
   "execution_count": 3,
   "id": "8e124d6d",
   "metadata": {},
   "outputs": [
    {
     "data": {
      "text/html": [
       "<div>\n",
       "<style scoped>\n",
       "    .dataframe tbody tr th:only-of-type {\n",
       "        vertical-align: middle;\n",
       "    }\n",
       "\n",
       "    .dataframe tbody tr th {\n",
       "        vertical-align: top;\n",
       "    }\n",
       "\n",
       "    .dataframe thead th {\n",
       "        text-align: right;\n",
       "    }\n",
       "</style>\n",
       "<table border=\"1\" class=\"dataframe\">\n",
       "  <thead>\n",
       "    <tr style=\"text-align: right;\">\n",
       "      <th></th>\n",
       "      <th>Open</th>\n",
       "      <th>High</th>\n",
       "      <th>Low</th>\n",
       "      <th>Last</th>\n",
       "      <th>Close</th>\n",
       "      <th>Total Trade Quantity</th>\n",
       "      <th>Turnover (Lacs)</th>\n",
       "    </tr>\n",
       "  </thead>\n",
       "  <tbody>\n",
       "    <tr>\n",
       "      <th>count</th>\n",
       "      <td>2035.000000</td>\n",
       "      <td>2035.000000</td>\n",
       "      <td>2035.000000</td>\n",
       "      <td>2035.000000</td>\n",
       "      <td>2035.00000</td>\n",
       "      <td>2.035000e+03</td>\n",
       "      <td>2035.000000</td>\n",
       "    </tr>\n",
       "    <tr>\n",
       "      <th>mean</th>\n",
       "      <td>149.713735</td>\n",
       "      <td>151.992826</td>\n",
       "      <td>147.293931</td>\n",
       "      <td>149.474251</td>\n",
       "      <td>149.45027</td>\n",
       "      <td>2.335681e+06</td>\n",
       "      <td>3899.980565</td>\n",
       "    </tr>\n",
       "    <tr>\n",
       "      <th>std</th>\n",
       "      <td>48.664509</td>\n",
       "      <td>49.413109</td>\n",
       "      <td>47.931958</td>\n",
       "      <td>48.732570</td>\n",
       "      <td>48.71204</td>\n",
       "      <td>2.091778e+06</td>\n",
       "      <td>4570.767877</td>\n",
       "    </tr>\n",
       "    <tr>\n",
       "      <th>min</th>\n",
       "      <td>81.100000</td>\n",
       "      <td>82.800000</td>\n",
       "      <td>80.000000</td>\n",
       "      <td>81.000000</td>\n",
       "      <td>80.95000</td>\n",
       "      <td>3.961000e+04</td>\n",
       "      <td>37.040000</td>\n",
       "    </tr>\n",
       "    <tr>\n",
       "      <th>25%</th>\n",
       "      <td>120.025000</td>\n",
       "      <td>122.100000</td>\n",
       "      <td>118.300000</td>\n",
       "      <td>120.075000</td>\n",
       "      <td>120.05000</td>\n",
       "      <td>1.146444e+06</td>\n",
       "      <td>1427.460000</td>\n",
       "    </tr>\n",
       "    <tr>\n",
       "      <th>50%</th>\n",
       "      <td>141.500000</td>\n",
       "      <td>143.400000</td>\n",
       "      <td>139.600000</td>\n",
       "      <td>141.100000</td>\n",
       "      <td>141.25000</td>\n",
       "      <td>1.783456e+06</td>\n",
       "      <td>2512.030000</td>\n",
       "    </tr>\n",
       "    <tr>\n",
       "      <th>75%</th>\n",
       "      <td>157.175000</td>\n",
       "      <td>159.400000</td>\n",
       "      <td>155.150000</td>\n",
       "      <td>156.925000</td>\n",
       "      <td>156.90000</td>\n",
       "      <td>2.813594e+06</td>\n",
       "      <td>4539.015000</td>\n",
       "    </tr>\n",
       "    <tr>\n",
       "      <th>max</th>\n",
       "      <td>327.700000</td>\n",
       "      <td>328.750000</td>\n",
       "      <td>321.650000</td>\n",
       "      <td>325.950000</td>\n",
       "      <td>325.75000</td>\n",
       "      <td>2.919102e+07</td>\n",
       "      <td>55755.080000</td>\n",
       "    </tr>\n",
       "  </tbody>\n",
       "</table>\n",
       "</div>"
      ],
      "text/plain": [
       "              Open         High          Low         Last       Close  \\\n",
       "count  2035.000000  2035.000000  2035.000000  2035.000000  2035.00000   \n",
       "mean    149.713735   151.992826   147.293931   149.474251   149.45027   \n",
       "std      48.664509    49.413109    47.931958    48.732570    48.71204   \n",
       "min      81.100000    82.800000    80.000000    81.000000    80.95000   \n",
       "25%     120.025000   122.100000   118.300000   120.075000   120.05000   \n",
       "50%     141.500000   143.400000   139.600000   141.100000   141.25000   \n",
       "75%     157.175000   159.400000   155.150000   156.925000   156.90000   \n",
       "max     327.700000   328.750000   321.650000   325.950000   325.75000   \n",
       "\n",
       "       Total Trade Quantity  Turnover (Lacs)  \n",
       "count          2.035000e+03      2035.000000  \n",
       "mean           2.335681e+06      3899.980565  \n",
       "std            2.091778e+06      4570.767877  \n",
       "min            3.961000e+04        37.040000  \n",
       "25%            1.146444e+06      1427.460000  \n",
       "50%            1.783456e+06      2512.030000  \n",
       "75%            2.813594e+06      4539.015000  \n",
       "max            2.919102e+07     55755.080000  "
      ]
     },
     "execution_count": 3,
     "metadata": {},
     "output_type": "execute_result"
    }
   ],
   "source": [
    "df.describe()"
   ]
  },
  {
   "cell_type": "code",
   "execution_count": 4,
   "id": "94febdce",
   "metadata": {},
   "outputs": [
    {
     "data": {
      "text/plain": [
       "(2035, 8)"
      ]
     },
     "execution_count": 4,
     "metadata": {},
     "output_type": "execute_result"
    }
   ],
   "source": [
    "df.shape"
   ]
  },
  {
   "cell_type": "code",
   "execution_count": 5,
   "id": "da41593e",
   "metadata": {},
   "outputs": [
    {
     "name": "stdout",
     "output_type": "stream",
     "text": [
      "<class 'pandas.core.frame.DataFrame'>\n",
      "RangeIndex: 2035 entries, 0 to 2034\n",
      "Data columns (total 8 columns):\n",
      " #   Column                Non-Null Count  Dtype  \n",
      "---  ------                --------------  -----  \n",
      " 0   Date                  2035 non-null   object \n",
      " 1   Open                  2035 non-null   float64\n",
      " 2   High                  2035 non-null   float64\n",
      " 3   Low                   2035 non-null   float64\n",
      " 4   Last                  2035 non-null   float64\n",
      " 5   Close                 2035 non-null   float64\n",
      " 6   Total Trade Quantity  2035 non-null   int64  \n",
      " 7   Turnover (Lacs)       2035 non-null   float64\n",
      "dtypes: float64(6), int64(1), object(1)\n",
      "memory usage: 127.3+ KB\n"
     ]
    }
   ],
   "source": [
    "df.info()"
   ]
  },
  {
   "cell_type": "code",
   "execution_count": 6,
   "id": "80dbd7e2",
   "metadata": {},
   "outputs": [
    {
     "data": {
      "text/html": [
       "<div>\n",
       "<style scoped>\n",
       "    .dataframe tbody tr th:only-of-type {\n",
       "        vertical-align: middle;\n",
       "    }\n",
       "\n",
       "    .dataframe tbody tr th {\n",
       "        vertical-align: top;\n",
       "    }\n",
       "\n",
       "    .dataframe thead th {\n",
       "        text-align: right;\n",
       "    }\n",
       "</style>\n",
       "<table border=\"1\" class=\"dataframe\">\n",
       "  <thead>\n",
       "    <tr style=\"text-align: right;\">\n",
       "      <th></th>\n",
       "      <th>Date</th>\n",
       "      <th>Open</th>\n",
       "      <th>High</th>\n",
       "      <th>Low</th>\n",
       "      <th>Last</th>\n",
       "      <th>Close</th>\n",
       "      <th>Total Trade Quantity</th>\n",
       "      <th>Turnover (Lacs)</th>\n",
       "    </tr>\n",
       "  </thead>\n",
       "  <tbody>\n",
       "    <tr>\n",
       "      <th>0</th>\n",
       "      <td>2018-09-28</td>\n",
       "      <td>234.05</td>\n",
       "      <td>235.95</td>\n",
       "      <td>230.20</td>\n",
       "      <td>233.50</td>\n",
       "      <td>233.75</td>\n",
       "      <td>3069914</td>\n",
       "      <td>7162.35</td>\n",
       "    </tr>\n",
       "    <tr>\n",
       "      <th>1</th>\n",
       "      <td>2018-09-27</td>\n",
       "      <td>234.55</td>\n",
       "      <td>236.80</td>\n",
       "      <td>231.10</td>\n",
       "      <td>233.80</td>\n",
       "      <td>233.25</td>\n",
       "      <td>5082859</td>\n",
       "      <td>11859.95</td>\n",
       "    </tr>\n",
       "    <tr>\n",
       "      <th>2</th>\n",
       "      <td>2018-09-26</td>\n",
       "      <td>240.00</td>\n",
       "      <td>240.00</td>\n",
       "      <td>232.50</td>\n",
       "      <td>235.00</td>\n",
       "      <td>234.25</td>\n",
       "      <td>2240909</td>\n",
       "      <td>5248.60</td>\n",
       "    </tr>\n",
       "    <tr>\n",
       "      <th>3</th>\n",
       "      <td>2018-09-25</td>\n",
       "      <td>233.30</td>\n",
       "      <td>236.75</td>\n",
       "      <td>232.00</td>\n",
       "      <td>236.25</td>\n",
       "      <td>236.10</td>\n",
       "      <td>2349368</td>\n",
       "      <td>5503.90</td>\n",
       "    </tr>\n",
       "    <tr>\n",
       "      <th>4</th>\n",
       "      <td>2018-09-24</td>\n",
       "      <td>233.55</td>\n",
       "      <td>239.20</td>\n",
       "      <td>230.75</td>\n",
       "      <td>234.00</td>\n",
       "      <td>233.30</td>\n",
       "      <td>3423509</td>\n",
       "      <td>7999.55</td>\n",
       "    </tr>\n",
       "  </tbody>\n",
       "</table>\n",
       "</div>"
      ],
      "text/plain": [
       "         Date    Open    High     Low    Last   Close  Total Trade Quantity  \\\n",
       "0  2018-09-28  234.05  235.95  230.20  233.50  233.75               3069914   \n",
       "1  2018-09-27  234.55  236.80  231.10  233.80  233.25               5082859   \n",
       "2  2018-09-26  240.00  240.00  232.50  235.00  234.25               2240909   \n",
       "3  2018-09-25  233.30  236.75  232.00  236.25  236.10               2349368   \n",
       "4  2018-09-24  233.55  239.20  230.75  234.00  233.30               3423509   \n",
       "\n",
       "   Turnover (Lacs)  \n",
       "0          7162.35  \n",
       "1         11859.95  \n",
       "2          5248.60  \n",
       "3          5503.90  \n",
       "4          7999.55  "
      ]
     },
     "execution_count": 6,
     "metadata": {},
     "output_type": "execute_result"
    }
   ],
   "source": [
    "df.head()"
   ]
  },
  {
   "cell_type": "code",
   "execution_count": 8,
   "id": "50d586fb",
   "metadata": {},
   "outputs": [
    {
     "data": {
      "text/plain": [
       "Date                    0\n",
       "Open                    0\n",
       "High                    0\n",
       "Low                     0\n",
       "Last                    0\n",
       "Close                   0\n",
       "Total Trade Quantity    0\n",
       "Turnover (Lacs)         0\n",
       "dtype: int64"
      ]
     },
     "execution_count": 8,
     "metadata": {},
     "output_type": "execute_result"
    }
   ],
   "source": [
    "# Check missing values\n",
    "df.isnull().sum()"
   ]
  },
  {
   "cell_type": "code",
   "execution_count": 10,
   "id": "2bd6d013",
   "metadata": {},
   "outputs": [
    {
     "data": {
      "text/html": [
       "<div>\n",
       "<style scoped>\n",
       "    .dataframe tbody tr th:only-of-type {\n",
       "        vertical-align: middle;\n",
       "    }\n",
       "\n",
       "    .dataframe tbody tr th {\n",
       "        vertical-align: top;\n",
       "    }\n",
       "\n",
       "    .dataframe thead th {\n",
       "        text-align: right;\n",
       "    }\n",
       "</style>\n",
       "<table border=\"1\" class=\"dataframe\">\n",
       "  <thead>\n",
       "    <tr style=\"text-align: right;\">\n",
       "      <th></th>\n",
       "      <th>Date</th>\n",
       "      <th>Open</th>\n",
       "      <th>High</th>\n",
       "      <th>Low</th>\n",
       "      <th>Last</th>\n",
       "      <th>Close</th>\n",
       "      <th>Total Trade Quantity</th>\n",
       "      <th>Turnover (Lacs)</th>\n",
       "    </tr>\n",
       "  </thead>\n",
       "  <tbody>\n",
       "    <tr>\n",
       "      <th>0</th>\n",
       "      <td>2018-09-28</td>\n",
       "      <td>234.05</td>\n",
       "      <td>235.95</td>\n",
       "      <td>230.20</td>\n",
       "      <td>233.50</td>\n",
       "      <td>233.75</td>\n",
       "      <td>3069914</td>\n",
       "      <td>7162.35</td>\n",
       "    </tr>\n",
       "    <tr>\n",
       "      <th>1</th>\n",
       "      <td>2018-09-27</td>\n",
       "      <td>234.55</td>\n",
       "      <td>236.80</td>\n",
       "      <td>231.10</td>\n",
       "      <td>233.80</td>\n",
       "      <td>233.25</td>\n",
       "      <td>5082859</td>\n",
       "      <td>11859.95</td>\n",
       "    </tr>\n",
       "    <tr>\n",
       "      <th>2</th>\n",
       "      <td>2018-09-26</td>\n",
       "      <td>240.00</td>\n",
       "      <td>240.00</td>\n",
       "      <td>232.50</td>\n",
       "      <td>235.00</td>\n",
       "      <td>234.25</td>\n",
       "      <td>2240909</td>\n",
       "      <td>5248.60</td>\n",
       "    </tr>\n",
       "    <tr>\n",
       "      <th>3</th>\n",
       "      <td>2018-09-25</td>\n",
       "      <td>233.30</td>\n",
       "      <td>236.75</td>\n",
       "      <td>232.00</td>\n",
       "      <td>236.25</td>\n",
       "      <td>236.10</td>\n",
       "      <td>2349368</td>\n",
       "      <td>5503.90</td>\n",
       "    </tr>\n",
       "    <tr>\n",
       "      <th>4</th>\n",
       "      <td>2018-09-24</td>\n",
       "      <td>233.55</td>\n",
       "      <td>239.20</td>\n",
       "      <td>230.75</td>\n",
       "      <td>234.00</td>\n",
       "      <td>233.30</td>\n",
       "      <td>3423509</td>\n",
       "      <td>7999.55</td>\n",
       "    </tr>\n",
       "  </tbody>\n",
       "</table>\n",
       "</div>"
      ],
      "text/plain": [
       "         Date    Open    High     Low    Last   Close  Total Trade Quantity  \\\n",
       "0  2018-09-28  234.05  235.95  230.20  233.50  233.75               3069914   \n",
       "1  2018-09-27  234.55  236.80  231.10  233.80  233.25               5082859   \n",
       "2  2018-09-26  240.00  240.00  232.50  235.00  234.25               2240909   \n",
       "3  2018-09-25  233.30  236.75  232.00  236.25  236.10               2349368   \n",
       "4  2018-09-24  233.55  239.20  230.75  234.00  233.30               3423509   \n",
       "\n",
       "   Turnover (Lacs)  \n",
       "0          7162.35  \n",
       "1         11859.95  \n",
       "2          5248.60  \n",
       "3          5503.90  \n",
       "4          7999.55  "
      ]
     },
     "execution_count": 10,
     "metadata": {},
     "output_type": "execute_result"
    }
   ],
   "source": [
    "new_df=pd.read_csv(dataset_link,parse_dates=[\"Date\"])\n",
    "df.head()"
   ]
  },
  {
   "cell_type": "markdown",
   "id": "8e2f74b9",
   "metadata": {},
   "source": [
    "**Sorting Data**"
   ]
  },
  {
   "cell_type": "code",
   "execution_count": 11,
   "id": "8e8c462c",
   "metadata": {},
   "outputs": [
    {
     "name": "stdout",
     "output_type": "stream",
     "text": [
      "<class 'pandas._libs.tslibs.timestamps.Timestamp'>\n"
     ]
    }
   ],
   "source": [
    "new_df['Date'] = pd.to_datetime(new_df['Date'], errors='coerce')\n",
    "print(type(new_df.Date[0]))\n"
   ]
  },
  {
   "cell_type": "code",
   "execution_count": 12,
   "id": "1c1d488f",
   "metadata": {},
   "outputs": [
    {
     "data": {
      "text/plain": [
       "2034   2010-07-21\n",
       "2033   2010-07-22\n",
       "2032   2010-07-23\n",
       "2031   2010-07-26\n",
       "2030   2010-07-27\n",
       "Name: Date, dtype: datetime64[ns]"
      ]
     },
     "execution_count": 12,
     "metadata": {},
     "output_type": "execute_result"
    }
   ],
   "source": [
    "new_df.sort_values(by=['Date'],inplace=True,ascending=True)\n",
    "new_df.Date.head()"
   ]
  },
  {
   "cell_type": "markdown",
   "id": "c8ea88eb",
   "metadata": {},
   "source": [
    "**Data Visualization**"
   ]
  },
  {
   "cell_type": "code",
   "execution_count": 13,
   "id": "3f4a2c07",
   "metadata": {},
   "outputs": [
    {
     "data": {
      "text/plain": [
       "<matplotlib.collections.PathCollection at 0x180573d1350>"
      ]
     },
     "execution_count": 13,
     "metadata": {},
     "output_type": "execute_result"
    },
    {
     "data": {
      "image/png": "[encoded data removed]",
      "text/plain": [
       "<Figure size 640x480 with 1 Axes>"
      ]
     },
     "metadata": {},
     "output_type": "display_data"
    }
   ],
   "source": [
    "\n",
    "fig,ax=plt.subplots()\n",
    "ax.scatter(new_df.Date,new_df.Close) "
   ]
  },
  {
   "cell_type": "code",
   "execution_count": 14,
   "id": "a8831f31",
   "metadata": {},
   "outputs": [
    {
     "data": {
      "text/html": [
       "<div>\n",
       "<style scoped>\n",
       "    .dataframe tbody tr th:only-of-type {\n",
       "        vertical-align: middle;\n",
       "    }\n",
       "\n",
       "    .dataframe tbody tr th {\n",
       "        vertical-align: top;\n",
       "    }\n",
       "\n",
       "    .dataframe thead th {\n",
       "        text-align: right;\n",
       "    }\n",
       "</style>\n",
       "<table border=\"1\" class=\"dataframe\">\n",
       "  <thead>\n",
       "    <tr style=\"text-align: right;\">\n",
       "      <th></th>\n",
       "      <th>index</th>\n",
       "      <th>Date</th>\n",
       "      <th>Open</th>\n",
       "      <th>High</th>\n",
       "      <th>Low</th>\n",
       "      <th>Last</th>\n",
       "      <th>Close</th>\n",
       "      <th>Total Trade Quantity</th>\n",
       "      <th>Turnover (Lacs)</th>\n",
       "    </tr>\n",
       "  </thead>\n",
       "  <tbody>\n",
       "    <tr>\n",
       "      <th>0</th>\n",
       "      <td>2034</td>\n",
       "      <td>2010-07-21</td>\n",
       "      <td>122.10</td>\n",
       "      <td>123.00</td>\n",
       "      <td>121.05</td>\n",
       "      <td>121.10</td>\n",
       "      <td>121.55</td>\n",
       "      <td>658666</td>\n",
       "      <td>803.56</td>\n",
       "    </tr>\n",
       "    <tr>\n",
       "      <th>1</th>\n",
       "      <td>2033</td>\n",
       "      <td>2010-07-22</td>\n",
       "      <td>120.30</td>\n",
       "      <td>122.00</td>\n",
       "      <td>120.25</td>\n",
       "      <td>120.75</td>\n",
       "      <td>120.90</td>\n",
       "      <td>293312</td>\n",
       "      <td>355.17</td>\n",
       "    </tr>\n",
       "    <tr>\n",
       "      <th>2</th>\n",
       "      <td>2032</td>\n",
       "      <td>2010-07-23</td>\n",
       "      <td>121.80</td>\n",
       "      <td>121.95</td>\n",
       "      <td>120.25</td>\n",
       "      <td>120.35</td>\n",
       "      <td>120.65</td>\n",
       "      <td>281312</td>\n",
       "      <td>340.31</td>\n",
       "    </tr>\n",
       "    <tr>\n",
       "      <th>3</th>\n",
       "      <td>2031</td>\n",
       "      <td>2010-07-26</td>\n",
       "      <td>120.10</td>\n",
       "      <td>121.00</td>\n",
       "      <td>117.10</td>\n",
       "      <td>117.10</td>\n",
       "      <td>117.60</td>\n",
       "      <td>658440</td>\n",
       "      <td>780.01</td>\n",
       "    </tr>\n",
       "    <tr>\n",
       "      <th>4</th>\n",
       "      <td>2030</td>\n",
       "      <td>2010-07-27</td>\n",
       "      <td>117.60</td>\n",
       "      <td>119.50</td>\n",
       "      <td>112.00</td>\n",
       "      <td>118.80</td>\n",
       "      <td>118.65</td>\n",
       "      <td>586100</td>\n",
       "      <td>694.98</td>\n",
       "    </tr>\n",
       "    <tr>\n",
       "      <th>...</th>\n",
       "      <td>...</td>\n",
       "      <td>...</td>\n",
       "      <td>...</td>\n",
       "      <td>...</td>\n",
       "      <td>...</td>\n",
       "      <td>...</td>\n",
       "      <td>...</td>\n",
       "      <td>...</td>\n",
       "      <td>...</td>\n",
       "    </tr>\n",
       "    <tr>\n",
       "      <th>2030</th>\n",
       "      <td>4</td>\n",
       "      <td>2018-09-24</td>\n",
       "      <td>233.55</td>\n",
       "      <td>239.20</td>\n",
       "      <td>230.75</td>\n",
       "      <td>234.00</td>\n",
       "      <td>233.30</td>\n",
       "      <td>3423509</td>\n",
       "      <td>7999.55</td>\n",
       "    </tr>\n",
       "    <tr>\n",
       "      <th>2031</th>\n",
       "      <td>3</td>\n",
       "      <td>2018-09-25</td>\n",
       "      <td>233.30</td>\n",
       "      <td>236.75</td>\n",
       "      <td>232.00</td>\n",
       "      <td>236.25</td>\n",
       "      <td>236.10</td>\n",
       "      <td>2349368</td>\n",
       "      <td>5503.90</td>\n",
       "    </tr>\n",
       "    <tr>\n",
       "      <th>2032</th>\n",
       "      <td>2</td>\n",
       "      <td>2018-09-26</td>\n",
       "      <td>240.00</td>\n",
       "      <td>240.00</td>\n",
       "      <td>232.50</td>\n",
       "      <td>235.00</td>\n",
       "      <td>234.25</td>\n",
       "      <td>2240909</td>\n",
       "      <td>5248.60</td>\n",
       "    </tr>\n",
       "    <tr>\n",
       "      <th>2033</th>\n",
       "      <td>1</td>\n",
       "      <td>2018-09-27</td>\n",
       "      <td>234.55</td>\n",
       "      <td>236.80</td>\n",
       "      <td>231.10</td>\n",
       "      <td>233.80</td>\n",
       "      <td>233.25</td>\n",
       "      <td>5082859</td>\n",
       "      <td>11859.95</td>\n",
       "    </tr>\n",
       "    <tr>\n",
       "      <th>2034</th>\n",
       "      <td>0</td>\n",
       "      <td>2018-09-28</td>\n",
       "      <td>234.05</td>\n",
       "      <td>235.95</td>\n",
       "      <td>230.20</td>\n",
       "      <td>233.50</td>\n",
       "      <td>233.75</td>\n",
       "      <td>3069914</td>\n",
       "      <td>7162.35</td>\n",
       "    </tr>\n",
       "  </tbody>\n",
       "</table>\n",
       "<p>2035 rows × 9 columns</p>\n",
       "</div>"
      ],
      "text/plain": [
       "      index       Date    Open    High     Low    Last   Close  \\\n",
       "0      2034 2010-07-21  122.10  123.00  121.05  121.10  121.55   \n",
       "1      2033 2010-07-22  120.30  122.00  120.25  120.75  120.90   \n",
       "2      2032 2010-07-23  121.80  121.95  120.25  120.35  120.65   \n",
       "3      2031 2010-07-26  120.10  121.00  117.10  117.10  117.60   \n",
       "4      2030 2010-07-27  117.60  119.50  112.00  118.80  118.65   \n",
       "...     ...        ...     ...     ...     ...     ...     ...   \n",
       "2030      4 2018-09-24  233.55  239.20  230.75  234.00  233.30   \n",
       "2031      3 2018-09-25  233.30  236.75  232.00  236.25  236.10   \n",
       "2032      2 2018-09-26  240.00  240.00  232.50  235.00  234.25   \n",
       "2033      1 2018-09-27  234.55  236.80  231.10  233.80  233.25   \n",
       "2034      0 2018-09-28  234.05  235.95  230.20  233.50  233.75   \n",
       "\n",
       "      Total Trade Quantity  Turnover (Lacs)  \n",
       "0                   658666           803.56  \n",
       "1                   293312           355.17  \n",
       "2                   281312           340.31  \n",
       "3                   658440           780.01  \n",
       "4                   586100           694.98  \n",
       "...                    ...              ...  \n",
       "2030               3423509          7999.55  \n",
       "2031               2349368          5503.90  \n",
       "2032               2240909          5248.60  \n",
       "2033               5082859         11859.95  \n",
       "2034               3069914          7162.35  \n",
       "\n",
       "[2035 rows x 9 columns]"
      ]
     },
     "execution_count": 14,
     "metadata": {},
     "output_type": "execute_result"
    }
   ],
   "source": [
    "new_df.reset_index(inplace=True)\n",
    "new_df\n"
   ]
  },
  {
   "cell_type": "markdown",
   "id": "558954e2",
   "metadata": {},
   "source": [
    "**Univariate analysis of Closing Price**"
   ]
  },
  {
   "cell_type": "code",
   "execution_count": 15,
   "id": "e98fe12a",
   "metadata": {},
   "outputs": [
    {
     "data": {
      "text/plain": [
       "0       121.55\n",
       "1       120.90\n",
       "2       120.65\n",
       "3       117.60\n",
       "4       118.65\n",
       "         ...  \n",
       "2030    233.30\n",
       "2031    236.10\n",
       "2032    234.25\n",
       "2033    233.25\n",
       "2034    233.75\n",
       "Name: Close, Length: 2035, dtype: float64"
      ]
     },
     "execution_count": 15,
     "metadata": {},
     "output_type": "execute_result"
    }
   ],
   "source": [
    "close_df=new_df['Close']\n",
    "close_df"
   ]
  },
  {
   "cell_type": "code",
   "execution_count": 17,
   "id": "2757ee4c",
   "metadata": {},
   "outputs": [
    {
     "data": {
      "text/plain": [
       "2035"
      ]
     },
     "execution_count": 17,
     "metadata": {},
     "output_type": "execute_result"
    }
   ],
   "source": [
    "close_df.size"
   ]
  },
  {
   "cell_type": "code",
   "execution_count": 18,
   "id": "9d368ba6",
   "metadata": {},
   "outputs": [
    {
     "data": {
      "text/plain": [
       "(2035,)"
      ]
     },
     "execution_count": 18,
     "metadata": {},
     "output_type": "execute_result"
    }
   ],
   "source": [
    "close_df.shape"
   ]
  },
  {
   "cell_type": "code",
   "execution_count": 19,
   "id": "f891027e",
   "metadata": {},
   "outputs": [
    {
     "data": {
      "text/plain": [
       "count    2035.00000\n",
       "mean      149.45027\n",
       "std        48.71204\n",
       "min        80.95000\n",
       "25%       120.05000\n",
       "50%       141.25000\n",
       "75%       156.90000\n",
       "max       325.75000\n",
       "Name: Close, dtype: float64"
      ]
     },
     "execution_count": 19,
     "metadata": {},
     "output_type": "execute_result"
    }
   ],
   "source": [
    "close_df.describe()"
   ]
  },
  {
   "cell_type": "code",
   "execution_count": null,
   "id": "20e77ada",
   "metadata": {},
   "outputs": [],
   "source": []
  },
  {
   "cell_type": "markdown",
   "id": "0b352ff5",
   "metadata": {},
   "source": [
    "**Min Max Scaler**"
   ]
  },
  {
   "cell_type": "code",
   "execution_count": 16,
   "id": "8fc0d103",
   "metadata": {},
   "outputs": [
    {
     "data": {
      "text/plain": [
       "array([[0.16584967],\n",
       "       [0.16319444],\n",
       "       [0.1621732 ],\n",
       "       ...,\n",
       "       [0.62622549],\n",
       "       [0.62214052],\n",
       "       [0.62418301]])"
      ]
     },
     "execution_count": 16,
     "metadata": {},
     "output_type": "execute_result"
    }
   ],
   "source": [
    "scaler=MinMaxScaler(feature_range=(0,1))\n",
    "close_df=scaler.fit_transform(np.array(close_df).reshape(-1,1))\n",
    "close_df"
   ]
  },
  {
   "cell_type": "markdown",
   "id": "29feaf93",
   "metadata": {},
   "source": [
    "**Train and Test Split**"
   ]
  },
  {
   "cell_type": "code",
   "execution_count": 17,
   "id": "a835a39f",
   "metadata": {},
   "outputs": [],
   "source": [
    "training_size=int(len(close_df)*0.7)\n",
    "test_size=len(close_df)-training_size\n",
    "train_data,test_data=close_df[0:training_size,:],close_df[training_size:len(close_df),:1]"
   ]
  },
  {
   "cell_type": "code",
   "execution_count": 18,
   "id": "a7086f80",
   "metadata": {},
   "outputs": [
    {
     "data": {
      "text/plain": [
       "((1424, 1), (2035, 1))"
      ]
     },
     "execution_count": 18,
     "metadata": {},
     "output_type": "execute_result"
    }
   ],
   "source": [
    "train_data.shape,close_df.shape"
   ]
  },
  {
   "cell_type": "code",
   "execution_count": 19,
   "id": "1b57834f",
   "metadata": {},
   "outputs": [
    {
     "data": {
      "text/plain": [
       "(611, 1)"
      ]
     },
     "execution_count": 19,
     "metadata": {},
     "output_type": "execute_result"
    }
   ],
   "source": [
    "test_data.shape"
   ]
  },
  {
   "cell_type": "code",
   "execution_count": 20,
   "id": "822c4c34",
   "metadata": {},
   "outputs": [
    {
     "data": {
      "text/plain": [
       "numpy.ndarray"
      ]
     },
     "execution_count": 20,
     "metadata": {},
     "output_type": "execute_result"
    }
   ],
   "source": [
    "type(test_data)"
   ]
  },
  {
   "cell_type": "code",
   "execution_count": null,
   "id": "5a003921",
   "metadata": {},
   "outputs": [],
   "source": []
  },
  {
   "cell_type": "markdown",
   "id": "30b5c3dc",
   "metadata": {},
   "source": [
    "**Data Preprocessing**"
   ]
  },
  {
   "cell_type": "code",
   "execution_count": 21,
   "id": "6f0b45cb",
   "metadata": {},
   "outputs": [],
   "source": [
    "import numpy as np\n",
    "def create_dataset(dataset, time_step=1):\n",
    "    dataX=[]\n",
    "    dataY=[]\n",
    "    for i in range(len(dataset)-time_step-1):\n",
    "        a = dataset[i:(i+time_step), 0]\n",
    "        dataX.append(a)\n",
    "        dataY.append(dataset[i + time_step, 0])\n",
    "    return np.array(dataX), np.array(dataY)\n",
    "time_step = 100\n",
    "X_train, y_train = create_dataset(train_data, time_step)#reshaping into tuples\n",
    "X_test, ytest = create_dataset(test_data, time_step)"
   ]
  },
  {
   "cell_type": "code",
   "execution_count": 22,
   "id": "9acdd48b",
   "metadata": {},
   "outputs": [],
   "source": [
    "X_test, ytest = create_dataset(test_data, time_step)"
   ]
  },
  {
   "cell_type": "code",
   "execution_count": 23,
   "id": "cb8ee4f5",
   "metadata": {},
   "outputs": [
    {
     "data": {
      "text/plain": [
       "(1323,)"
      ]
     },
     "execution_count": 23,
     "metadata": {},
     "output_type": "execute_result"
    }
   ],
   "source": [
    "y_train.shape"
   ]
  },
  {
   "cell_type": "code",
   "execution_count": 82,
   "id": "74e938c0",
   "metadata": {},
   "outputs": [
    {
     "data": {
      "text/plain": [
       "(1323, 100, 1)"
      ]
     },
     "execution_count": 82,
     "metadata": {},
     "output_type": "execute_result"
    }
   ],
   "source": [
    "X_train.shape"
   ]
  },
  {
   "cell_type": "code",
   "execution_count": 83,
   "id": "bff7add9",
   "metadata": {},
   "outputs": [
    {
     "name": "stdout",
     "output_type": "stream",
     "text": [
      "(510, 100)\n",
      "(510,)\n"
     ]
    },
    {
     "data": {
      "text/plain": [
       "(None, None)"
      ]
     },
     "execution_count": 83,
     "metadata": {},
     "output_type": "execute_result"
    }
   ],
   "source": [
    "\n",
    "print(X_test.shape), print(ytest.shape)"
   ]
  },
  {
   "cell_type": "code",
   "execution_count": 84,
   "id": "c99f5d76",
   "metadata": {},
   "outputs": [],
   "source": [
    "X_train=X_train.reshape(X_train.shape[0],X_train.shape[1],1)\n",
    "X_test=X_test.reshape(X_test.shape[0],X_test.shape[1],1)"
   ]
  },
  {
   "cell_type": "code",
   "execution_count": null,
   "id": "203c4438",
   "metadata": {},
   "outputs": [],
   "source": []
  },
  {
   "cell_type": "markdown",
   "id": "7be56b83",
   "metadata": {},
   "source": [
    "**Creating the stacked LSTM Model**"
   ]
  },
  {
   "cell_type": "code",
   "execution_count": 85,
   "id": "4987560c",
   "metadata": {},
   "outputs": [],
   "source": [
    "from tensorflow.keras.models import Sequential\n",
    "from tensorflow.keras.layers import Dense\n",
    "from tensorflow.keras.layers import LSTM\n",
    "\n",
    "model=Sequential()\n",
    "model.add(LSTM(50,return_sequences=True,input_shape=(time_step,1)))#input layer with 50 neurons\n",
    "model.add(LSTM(50,return_sequences=True)) #hidden layers with 50 neurons\n",
    "model.add(LSTM(50))\n",
    "model.add(Dense(1))#output layer\n",
    "model.compile(loss='mean_squared_error',optimizer='adam')\n"
   ]
  },
  {
   "cell_type": "code",
   "execution_count": null,
   "id": "a4130cca",
   "metadata": {},
   "outputs": [],
   "source": []
  },
  {
   "cell_type": "code",
   "execution_count": null,
   "id": "39756c06",
   "metadata": {},
   "outputs": [],
   "source": [
    "https://github.com/Kumarinishu/LGMVIP-DataScience-Nishu/blob/main/Beginner/TASK-2/Stock%20Market%20Prediction%20And%20Forecasting%20Using%20Stacked%20LSTM.ipynb"
   ]
  },
  {
   "cell_type": "code",
   "execution_count": null,
   "id": "6766d626",
   "metadata": {},
   "outputs": [],
   "source": [
    "model = Sequential()\n",
    "model.add(LSTM(50, return_sequences=True, input_shape=(100,1)))\n",
    "model.add(LSTM(50, return_sequences=True, input_shape=(100,1)))\n",
    "model.add(LSTM(50))\n",
    "model.add(Dense(1))\n",
    "model.compile(loss='mean_squared_error', optimizer='adam', metrics='acc')"
   ]
  },
  {
   "cell_type": "code",
   "execution_count": 49,
   "id": "8b3fa04a",
   "metadata": {},
   "outputs": [
    {
     "name": "stdout",
     "output_type": "stream",
     "text": [
      "Model: \"sequential_1\"\n",
      "_________________________________________________________________\n",
      " Layer (type)                Output Shape              Param #   \n",
      "=================================================================\n",
      " lstm_3 (LSTM)               (None, 100, 50)           10400     \n",
      "                                                                 \n",
      " lstm_4 (LSTM)               (None, 100, 50)           20200     \n",
      "                                                                 \n",
      " lstm_5 (LSTM)               (None, 50)                20200     \n",
      "                                                                 \n",
      " dense_1 (Dense)             (None, 1)                 51        \n",
      "                                                                 \n",
      "=================================================================\n",
      "Total params: 50,851\n",
      "Trainable params: 50,851\n",
      "Non-trainable params: 0\n",
      "_________________________________________________________________\n"
     ]
    }
   ],
   "source": [
    "model.summary()"
   ]
  },
  {
   "cell_type": "code",
   "execution_count": 61,
   "id": "5945ed39",
   "metadata": {},
   "outputs": [
    {
     "name": "stdout",
     "output_type": "stream",
     "text": [
      "Epoch 1/100\n",
      "21/21 [==============================] - 24s 673ms/step - loss: 0.0082 - val_loss: 0.0093\n",
      "Epoch 2/100\n",
      "21/21 [==============================] - 11s 521ms/step - loss: 0.0014 - val_loss: 0.0058\n",
      "Epoch 3/100\n",
      "21/21 [==============================] - 10s 498ms/step - loss: 9.8420e-04 - val_loss: 0.0037\n",
      "Epoch 4/100\n",
      "21/21 [==============================] - 10s 506ms/step - loss: 8.7098e-04 - val_loss: 0.0043\n",
      "Epoch 5/100\n",
      "21/21 [==============================] - 10s 463ms/step - loss: 8.6032e-04 - val_loss: 0.0032\n",
      "Epoch 6/100\n",
      "21/21 [==============================] - 10s 489ms/step - loss: 8.1232e-04 - val_loss: 0.0031\n",
      "Epoch 7/100\n",
      "21/21 [==============================] - 10s 489ms/step - loss: 7.7894e-04 - val_loss: 0.0027\n",
      "Epoch 8/100\n",
      "21/21 [==============================] - 10s 492ms/step - loss: 7.8950e-04 - val_loss: 0.0035\n",
      "Epoch 9/100\n",
      "21/21 [==============================] - 9s 410ms/step - loss: 7.1330e-04 - val_loss: 0.0024\n",
      "Epoch 10/100\n",
      "21/21 [==============================] - 10s 495ms/step - loss: 7.0390e-04 - val_loss: 0.0039\n",
      "Epoch 11/100\n",
      "21/21 [==============================] - 11s 506ms/step - loss: 6.5839e-04 - val_loss: 0.0039\n",
      "Epoch 12/100\n",
      "21/21 [==============================] - 10s 479ms/step - loss: 6.4216e-04 - val_loss: 0.0049\n",
      "Epoch 13/100\n",
      "21/21 [==============================] - 10s 492ms/step - loss: 6.1334e-04 - val_loss: 0.0073\n",
      "Epoch 14/100\n",
      "21/21 [==============================] - 10s 498ms/step - loss: 6.5624e-04 - val_loss: 0.0028\n",
      "Epoch 15/100\n",
      "21/21 [==============================] - 10s 485ms/step - loss: 6.4679e-04 - val_loss: 0.0063\n",
      "Epoch 16/100\n",
      "21/21 [==============================] - 9s 449ms/step - loss: 5.9983e-04 - val_loss: 0.0053\n",
      "Epoch 17/100\n",
      "21/21 [==============================] - 10s 463ms/step - loss: 5.7711e-04 - val_loss: 0.0069\n",
      "Epoch 18/100\n",
      "21/21 [==============================] - 10s 501ms/step - loss: 5.3605e-04 - val_loss: 0.0063\n",
      "Epoch 19/100\n",
      "21/21 [==============================] - 10s 501ms/step - loss: 5.3765e-04 - val_loss: 0.0052\n",
      "Epoch 20/100\n",
      "21/21 [==============================] - 10s 497ms/step - loss: 5.1929e-04 - val_loss: 0.0100\n",
      "Epoch 21/100\n",
      "21/21 [==============================] - 11s 506ms/step - loss: 5.2870e-04 - val_loss: 0.0075\n",
      "Epoch 22/100\n",
      "21/21 [==============================] - 10s 484ms/step - loss: 4.9516e-04 - val_loss: 0.0062\n",
      "Epoch 23/100\n",
      "21/21 [==============================] - 10s 503ms/step - loss: 5.1114e-04 - val_loss: 0.0069\n",
      "Epoch 24/100\n",
      "21/21 [==============================] - 10s 491ms/step - loss: 4.7469e-04 - val_loss: 0.0053\n",
      "Epoch 25/100\n",
      "21/21 [==============================] - 10s 484ms/step - loss: 4.5324e-04 - val_loss: 0.0040\n",
      "Epoch 26/100\n",
      "21/21 [==============================] - 11s 509ms/step - loss: 4.5227e-04 - val_loss: 0.0064\n",
      "Epoch 27/100\n",
      "21/21 [==============================] - 11s 506ms/step - loss: 4.7204e-04 - val_loss: 0.0034\n",
      "Epoch 28/100\n",
      "21/21 [==============================] - 10s 473ms/step - loss: 4.5453e-04 - val_loss: 0.0055\n",
      "Epoch 29/100\n",
      "21/21 [==============================] - 10s 475ms/step - loss: 4.2312e-04 - val_loss: 0.0089\n",
      "Epoch 30/100\n",
      "21/21 [==============================] - 9s 447ms/step - loss: 4.7205e-04 - val_loss: 0.0045\n",
      "Epoch 31/100\n",
      "21/21 [==============================] - 10s 495ms/step - loss: 4.0406e-04 - val_loss: 0.0035\n",
      "Epoch 32/100\n",
      "21/21 [==============================] - 10s 490ms/step - loss: 3.7851e-04 - val_loss: 0.0040\n",
      "Epoch 33/100\n",
      "21/21 [==============================] - 10s 475ms/step - loss: 3.9748e-04 - val_loss: 0.0055\n",
      "Epoch 34/100\n",
      "21/21 [==============================] - 10s 502ms/step - loss: 3.6453e-04 - val_loss: 0.0036\n",
      "Epoch 35/100\n",
      "21/21 [==============================] - 9s 434ms/step - loss: 3.5737e-04 - val_loss: 0.0018\n",
      "Epoch 36/100\n",
      "21/21 [==============================] - 9s 426ms/step - loss: 3.2460e-04 - val_loss: 0.0031\n",
      "Epoch 37/100\n",
      "21/21 [==============================] - 10s 460ms/step - loss: 3.1783e-04 - val_loss: 0.0021\n",
      "Epoch 38/100\n",
      "21/21 [==============================] - 9s 429ms/step - loss: 3.0790e-04 - val_loss: 0.0021\n",
      "Epoch 39/100\n",
      "21/21 [==============================] - 10s 474ms/step - loss: 2.9668e-04 - val_loss: 0.0050\n",
      "Epoch 40/100\n",
      "21/21 [==============================] - 9s 448ms/step - loss: 3.7901e-04 - val_loss: 0.0010\n",
      "Epoch 41/100\n",
      "21/21 [==============================] - 9s 431ms/step - loss: 3.4035e-04 - val_loss: 0.0011\n",
      "Epoch 42/100\n",
      "21/21 [==============================] - 10s 453ms/step - loss: 2.8665e-04 - val_loss: 0.0019\n",
      "Epoch 43/100\n",
      "21/21 [==============================] - 9s 427ms/step - loss: 2.8973e-04 - val_loss: 0.0013\n",
      "Epoch 44/100\n",
      "21/21 [==============================] - 9s 425ms/step - loss: 2.6630e-04 - val_loss: 0.0017\n",
      "Epoch 45/100\n",
      "21/21 [==============================] - 10s 464ms/step - loss: 2.6752e-04 - val_loss: 0.0021\n",
      "Epoch 46/100\n",
      "21/21 [==============================] - 9s 430ms/step - loss: 2.4973e-04 - val_loss: 0.0013\n",
      "Epoch 47/100\n",
      "21/21 [==============================] - 9s 447ms/step - loss: 2.4645e-04 - val_loss: 0.0012\n",
      "Epoch 48/100\n",
      "21/21 [==============================] - 9s 450ms/step - loss: 2.3568e-04 - val_loss: 0.0010\n",
      "Epoch 49/100\n",
      "21/21 [==============================] - 9s 407ms/step - loss: 2.3421e-04 - val_loss: 0.0016\n",
      "Epoch 50/100\n",
      "21/21 [==============================] - 10s 464ms/step - loss: 2.6757e-04 - val_loss: 0.0032\n",
      "Epoch 51/100\n",
      "21/21 [==============================] - 10s 495ms/step - loss: 2.7146e-04 - val_loss: 7.8345e-04\n",
      "Epoch 52/100\n",
      "21/21 [==============================] - 9s 448ms/step - loss: 2.7361e-04 - val_loss: 0.0020\n",
      "Epoch 53/100\n",
      "21/21 [==============================] - 10s 483ms/step - loss: 2.2617e-04 - val_loss: 0.0014\n",
      "Epoch 54/100\n",
      "21/21 [==============================] - 10s 502ms/step - loss: 2.2650e-04 - val_loss: 8.0165e-04\n",
      "Epoch 55/100\n",
      "21/21 [==============================] - 9s 450ms/step - loss: 2.0775e-04 - val_loss: 6.1221e-04\n",
      "Epoch 56/100\n",
      "21/21 [==============================] - 9s 450ms/step - loss: 2.1118e-04 - val_loss: 0.0021\n",
      "Epoch 57/100\n",
      "21/21 [==============================] - 10s 486ms/step - loss: 2.4924e-04 - val_loss: 0.0012\n",
      "Epoch 58/100\n",
      "21/21 [==============================] - 10s 487ms/step - loss: 2.1563e-04 - val_loss: 0.0019\n",
      "Epoch 59/100\n",
      "21/21 [==============================] - 8s 399ms/step - loss: 1.9853e-04 - val_loss: 8.4151e-04\n",
      "Epoch 60/100\n",
      "21/21 [==============================] - 9s 434ms/step - loss: 1.8304e-04 - val_loss: 0.0014\n",
      "Epoch 61/100\n",
      "21/21 [==============================] - 9s 443ms/step - loss: 2.0717e-04 - val_loss: 0.0017\n",
      "Epoch 62/100\n",
      "21/21 [==============================] - 10s 466ms/step - loss: 1.7973e-04 - val_loss: 0.0012\n",
      "Epoch 63/100\n",
      "21/21 [==============================] - 10s 465ms/step - loss: 1.6773e-04 - val_loss: 0.0015\n",
      "Epoch 64/100\n",
      "21/21 [==============================] - 10s 471ms/step - loss: 2.0580e-04 - val_loss: 0.0012\n",
      "Epoch 65/100\n",
      "21/21 [==============================] - 10s 499ms/step - loss: 1.9664e-04 - val_loss: 0.0010\n",
      "Epoch 66/100\n",
      "21/21 [==============================] - 10s 495ms/step - loss: 1.6857e-04 - val_loss: 0.0012\n",
      "Epoch 67/100\n",
      "21/21 [==============================] - 9s 455ms/step - loss: 1.6424e-04 - val_loss: 0.0016\n",
      "Epoch 68/100\n",
      "21/21 [==============================] - 10s 497ms/step - loss: 2.0403e-04 - val_loss: 0.0024\n",
      "Epoch 69/100\n",
      "21/21 [==============================] - 10s 472ms/step - loss: 1.9972e-04 - val_loss: 0.0026\n",
      "Epoch 70/100\n",
      "21/21 [==============================] - 10s 489ms/step - loss: 2.1372e-04 - val_loss: 8.9065e-04\n",
      "Epoch 71/100\n",
      "21/21 [==============================] - 9s 439ms/step - loss: 2.0040e-04 - val_loss: 0.0016\n",
      "Epoch 72/100\n",
      "21/21 [==============================] - 10s 486ms/step - loss: 1.7093e-04 - val_loss: 0.0012\n",
      "Epoch 73/100\n",
      "21/21 [==============================] - 10s 501ms/step - loss: 1.6575e-04 - val_loss: 0.0015\n",
      "Epoch 74/100\n",
      "21/21 [==============================] - 11s 503ms/step - loss: 1.5340e-04 - val_loss: 0.0010\n",
      "Epoch 75/100\n",
      "21/21 [==============================] - 10s 507ms/step - loss: 1.4360e-04 - val_loss: 6.9579e-04\n",
      "Epoch 76/100\n",
      "21/21 [==============================] - 10s 489ms/step - loss: 1.4509e-04 - val_loss: 8.9014e-04\n",
      "Epoch 77/100\n",
      "21/21 [==============================] - 9s 445ms/step - loss: 1.3944e-04 - val_loss: 0.0015\n",
      "Epoch 78/100\n",
      "21/21 [==============================] - 6s 276ms/step - loss: 1.4666e-04 - val_loss: 7.6879e-04\n",
      "Epoch 79/100\n",
      "21/21 [==============================] - 7s 335ms/step - loss: 1.4957e-04 - val_loss: 8.9589e-04\n",
      "Epoch 80/100\n",
      "21/21 [==============================] - 7s 325ms/step - loss: 1.4328e-04 - val_loss: 0.0011\n",
      "Epoch 81/100\n",
      "21/21 [==============================] - 11s 512ms/step - loss: 1.3666e-04 - val_loss: 0.0012\n",
      "Epoch 82/100\n",
      "21/21 [==============================] - 11s 506ms/step - loss: 1.3888e-04 - val_loss: 0.0018\n",
      "Epoch 83/100\n",
      "21/21 [==============================] - 10s 498ms/step - loss: 1.3654e-04 - val_loss: 8.9746e-04\n",
      "Epoch 84/100\n",
      "21/21 [==============================] - 10s 493ms/step - loss: 1.4139e-04 - val_loss: 0.0011\n",
      "Epoch 85/100\n",
      "21/21 [==============================] - 11s 503ms/step - loss: 1.3333e-04 - val_loss: 0.0020\n",
      "Epoch 86/100\n",
      "21/21 [==============================] - 10s 493ms/step - loss: 1.9627e-04 - val_loss: 0.0037\n",
      "Epoch 87/100\n",
      "21/21 [==============================] - 10s 492ms/step - loss: 1.8590e-04 - val_loss: 0.0013\n",
      "Epoch 88/100\n",
      "21/21 [==============================] - 10s 503ms/step - loss: 1.3699e-04 - val_loss: 0.0021\n",
      "Epoch 89/100\n",
      "21/21 [==============================] - 10s 489ms/step - loss: 1.3908e-04 - val_loss: 0.0012\n",
      "Epoch 90/100\n",
      "21/21 [==============================] - 10s 495ms/step - loss: 1.3808e-04 - val_loss: 7.6995e-04\n",
      "Epoch 91/100\n",
      "21/21 [==============================] - 10s 495ms/step - loss: 1.5635e-04 - val_loss: 0.0024\n",
      "Epoch 92/100\n",
      "21/21 [==============================] - 10s 493ms/step - loss: 1.4167e-04 - val_loss: 0.0016\n",
      "Epoch 93/100\n",
      "21/21 [==============================] - 11s 510ms/step - loss: 1.3189e-04 - val_loss: 9.1103e-04\n",
      "Epoch 94/100\n",
      "21/21 [==============================] - 11s 502ms/step - loss: 1.3349e-04 - val_loss: 0.0013\n",
      "Epoch 95/100\n",
      "21/21 [==============================] - 10s 485ms/step - loss: 1.4250e-04 - val_loss: 0.0017\n",
      "Epoch 96/100\n",
      "21/21 [==============================] - 10s 490ms/step - loss: 1.5199e-04 - val_loss: 0.0017\n",
      "Epoch 97/100\n",
      "21/21 [==============================] - 10s 490ms/step - loss: 1.3158e-04 - val_loss: 0.0016\n",
      "Epoch 98/100\n",
      "21/21 [==============================] - 10s 485ms/step - loss: 1.3029e-04 - val_loss: 0.0013\n",
      "Epoch 99/100\n",
      "21/21 [==============================] - 11s 509ms/step - loss: 1.2943e-04 - val_loss: 9.6907e-04\n",
      "Epoch 100/100\n",
      "21/21 [==============================] - 10s 461ms/step - loss: 1.3510e-04 - val_loss: 0.0010\n"
     ]
    }
   ],
   "source": [
    "model.fit(X_train, y_train, validation_data = (X_test, ytest), epochs =100, batch_size = 64, verbose = 1);"
   ]
  },
  {
   "cell_type": "markdown",
   "id": "fd67c84b",
   "metadata": {},
   "source": [
    "**evaluation of constructed LSTM model**"
   ]
  },
  {
   "cell_type": "code",
   "execution_count": 63,
   "id": "1fb9da9b",
   "metadata": {},
   "outputs": [
    {
     "data": {
      "image/png": "[encoded data removed]",
      "text/plain": [
       "<Figure size 432x288 with 1 Axes>"
      ]
     },
     "metadata": {
      "needs_background": "light"
     },
     "output_type": "display_data"
    }
   ],
   "source": [
    "#ploting loss of our trained model\n",
    "loss=model.history.history['loss']\n",
    "plt.plot(loss)\n",
    "plt.xlabel(\"No.of iteration...\")\n",
    "plt.ylabel(\"loss value...\")\n",
    "plt.title(\"variation of loss value with No. of iteration\",color=\"orange\",fontsize=16,fontweight=\"bold\");"
   ]
  },
  {
   "cell_type": "markdown",
   "id": "3569f9f8",
   "metadata": {},
   "source": [
    "The above graph shows that loss has been decreased significantly with the increase in iteration,thus model is well trained\n"
   ]
  },
  {
   "cell_type": "markdown",
   "id": "cf68eb4f",
   "metadata": {},
   "source": [
    "**Evaluation of our constructed model on train and test data**"
   ]
  },
  {
   "cell_type": "code",
   "execution_count": 67,
   "id": "2eae936a",
   "metadata": {},
   "outputs": [
    {
     "name": "stdout",
     "output_type": "stream",
     "text": [
      "42/42 [==============================] - 5s 112ms/step\n"
     ]
    }
   ],
   "source": [
    "train_predict1=model.predict(X_train)\n"
   ]
  },
  {
   "cell_type": "code",
   "execution_count": 71,
   "id": "fe6587a1",
   "metadata": {},
   "outputs": [
    {
     "name": "stdout",
     "output_type": "stream",
     "text": [
      "16/16 [==============================] - 1s 93ms/step\n"
     ]
    }
   ],
   "source": [
    "\n",
    "test_predict1=model.predict(X_test)"
   ]
  },
  {
   "cell_type": "code",
   "execution_count": null,
   "id": "8bfb403f",
   "metadata": {},
   "outputs": [],
   "source": []
  },
  {
   "cell_type": "code",
   "execution_count": 73,
   "id": "942fa594",
   "metadata": {},
   "outputs": [],
   "source": [
    "\n",
    "#Transformback to original form\n",
    "train_predict1=scaler.inverse_transform(train_predict1)\n",
    "test_predict1=scaler.inverse_transform(test_predict1)"
   ]
  },
  {
   "cell_type": "code",
   "execution_count": 75,
   "id": "e8e3ff97",
   "metadata": {},
   "outputs": [
    {
     "data": {
      "text/plain": [
       "134.3415241858397"
      ]
     },
     "execution_count": 75,
     "metadata": {},
     "output_type": "execute_result"
    }
   ],
   "source": [
    "import math\n",
    "from sklearn.metrics import mean_squared_error\n",
    "math.sqrt(mean_squared_error(y_train,train_predict1))"
   ]
  },
  {
   "cell_type": "code",
   "execution_count": 90,
   "id": "37d2b1f5",
   "metadata": {},
   "outputs": [
    {
     "data": {
      "text/plain": [
       "208.41858669034988"
      ]
     },
     "execution_count": 90,
     "metadata": {},
     "output_type": "execute_result"
    }
   ],
   "source": [
    "math.sqrt(mean_squared_error(ytest,test_predict1))"
   ]
  },
  {
   "cell_type": "code",
   "execution_count": 91,
   "id": "e0a34e15",
   "metadata": {},
   "outputs": [
    {
     "data": {
      "text/plain": [
       "array([[0.16584967],\n",
       "       [0.16319444],\n",
       "       [0.1621732 ],\n",
       "       ...,\n",
       "       [0.62622549],\n",
       "       [0.62214052],\n",
       "       [0.62418301]])"
      ]
     },
     "execution_count": 91,
     "metadata": {},
     "output_type": "execute_result"
    }
   ],
   "source": [
    "close_df"
   ]
  },
  {
   "cell_type": "code",
   "execution_count": 92,
   "id": "4d8f9a8c",
   "metadata": {},
   "outputs": [
    {
     "data": {
      "text/plain": [
       "(1323, 1)"
      ]
     },
     "execution_count": 92,
     "metadata": {},
     "output_type": "execute_result"
    }
   ],
   "source": [
    "train_predict1.shape"
   ]
  },
  {
   "cell_type": "markdown",
   "id": "340315f5",
   "metadata": {},
   "source": [
    "**Plotting**"
   ]
  },
  {
   "cell_type": "code",
   "execution_count": 94,
   "id": "8a11244a",
   "metadata": {},
   "outputs": [],
   "source": [
    "\n",
    "# shift train predictions for plotting\n",
    "look_back=100\n",
    "trainPredictPlot = np.empty_like(close_df)\n",
    "trainPredictPlot[:, :] = np.nan\n",
    "trainPredictPlot[look_back:len(train_predict1)+look_back, :] = train_predict1\n",
    "\n",
    "# shift test predictions for plotting\n",
    "testPredictPlot = np.empty_like(close_df)\n",
    "testPredictPlot[:, :] = np.nan\n",
    "testPredictPlot[len(train_predict1)+(look_back*2)+1:len(df)-1, :] = test_predict1\n",
    "\n"
   ]
  },
  {
   "cell_type": "code",
   "execution_count": 97,
   "id": "92472f4b",
   "metadata": {},
   "outputs": [
    {
     "data": {
      "text/plain": [
       "Text(0, 0.5, 'closing price')"
      ]
     },
     "execution_count": 97,
     "metadata": {},
     "output_type": "execute_result"
    },
    {
     "data": {
      "image/png": "[encoded data removed]",
      "text/plain": [
       "<Figure size 720x360 with 1 Axes>"
      ]
     },
     "metadata": {
      "needs_background": "light"
     },
     "output_type": "display_data"
    }
   ],
   "source": [
    "# plot baseline and predictions\n",
    "plt.figure(figsize=(10,5))\n",
    "plt.plot(scaler.inverse_transform(close_df))\n",
    "plt.title(\"variation of actual dataset\",color=\"orange\",fontsize=16,fontweight=\"bold\")\n",
    "plt.xlabel(\"data index number\")\n",
    "plt.ylabel(\"closing price\")"
   ]
  },
  {
   "cell_type": "code",
   "execution_count": 98,
   "id": "f3b24fad",
   "metadata": {},
   "outputs": [
    {
     "data": {
      "text/plain": [
       "Text(0, 0.5, 'closing price')"
      ]
     },
     "execution_count": 98,
     "metadata": {},
     "output_type": "execute_result"
    },
    {
     "data": {
      "image/png": "[encoded data removed]",
      "text/plain": [
       "<Figure size 432x288 with 1 Axes>"
      ]
     },
     "metadata": {
      "needs_background": "light"
     },
     "output_type": "display_data"
    }
   ],
   "source": [
    "#plot of predictions on closing price made by our model on training dataset vs actual closing price\n",
    "plt.plot(scaler.inverse_transform(close_df))\n",
    "plt.plot(trainPredictPlot)\n",
    "plt.title(\"variation of predicted trained dataset(orange) and actual dataset(lightblue)\",color=\"orange\",fontsize=16,fontweight=\"bold\")\n",
    "plt.xlabel(\"data index number\")\n",
    "plt.ylabel(\"closing price\")"
   ]
  },
  {
   "cell_type": "code",
   "execution_count": 100,
   "id": "7c2bffa1",
   "metadata": {},
   "outputs": [
    {
     "data": {
      "image/png": "[encoded data removed]",
      "text/plain": [
       "<Figure size 432x288 with 1 Axes>"
      ]
     },
     "metadata": {
      "needs_background": "light"
     },
     "output_type": "display_data"
    }
   ],
   "source": [
    "#plot of prediction on closing price made by our model on training dataset vs actual closing price\n",
    "#vs prediction on closing price made by our model on test dataset\n",
    "plt.plot(scaler.inverse_transform(close_df))\n",
    "plt.plot(trainPredictPlot)\n",
    "plt.title(\"variation of predicted tested dataset(green) and actual dataset(lightblue)\",color=\"orange\",fontsize=16,fontweight=\"bold\")\n",
    "plt.xlabel(\"data index number\")\n",
    "plt.ylabel(\"closing price\")\n",
    "plt.plot(testPredictPlot)\n",
    "plt.show()"
   ]
  },
  {
   "cell_type": "markdown",
   "id": "d3058c21",
   "metadata": {},
   "source": [
    "**since our model trained with first 100 data inputs and start predicting from 101 onwards\n",
    "so orange starts from 101 dataindex no. , similar logic for test data**\n",
    "\n",
    "\n",
    "light blue=-actual closing price\n",
    "\n",
    "\n",
    "orange=prediction on closing price made by our model on training dataset\n",
    "\n",
    "\n",
    "green=prediction on closing price made by model on test dataset"
   ]
  },
  {
   "cell_type": "code",
   "execution_count": null,
   "id": "fc6449d3",
   "metadata": {},
   "outputs": [],
   "source": []
  }
 ],
 "metadata": {
  "kernelspec": {
   "display_name": "Python 3 (ipykernel)",
   "language": "python",
   "name": "python3"
  },
  "language_info": {
   "codemirror_mode": {
    "name": "ipython",
    "version": 3
   },
   "file_extension": ".py",
   "mimetype": "text/x-python",
   "name": "python",
   "nbconvert_exporter": "python",
   "pygments_lexer": "ipython3",
   "version": "3.11.3"
  }
 },
 "nbformat": 4,
 "nbformat_minor": 5
}
